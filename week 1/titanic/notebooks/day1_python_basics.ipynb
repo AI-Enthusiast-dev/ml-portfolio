{
 "cells": [
  {
   "cell_type": "code",
   "execution_count": 1,
   "id": "bb152de2-b80b-43bf-9af3-0db1e6ee544d",
   "metadata": {},
   "outputs": [
    {
     "name": "stdout",
     "output_type": "stream",
     "text": [
      "<class 'int'> <class 'float'> <class 'str'> <class 'bool'>\n"
     ]
    }
   ],
   "source": [
    "# Integers, floats, strings, booleans\n",
    "a = 10\n",
    "b = 3.14\n",
    "c = \"Hello\"\n",
    "d = True\n",
    "\n",
    "print(type(a), type(b), type(c), type(d))\n"
   ]
  },
  {
   "cell_type": "code",
   "execution_count": 3,
   "id": "f883d3bf-4420-46ca-a57b-ffb1a7a88548",
   "metadata": {},
   "outputs": [
    {
     "name": "stdout",
     "output_type": "stream",
     "text": [
      "[1, 2, 3, 4, 5]\n",
      "(10, 20)\n",
      "{1, 2, 3}\n",
      "Alice\n"
     ]
    }
   ],
   "source": [
    "# List\n",
    "numbers = [1, 2, 3, 4, 5]\n",
    "print(numbers)\n",
    "\n",
    "# Tuple (immutable list)\n",
    "coords = (10, 20)\n",
    "print(coords)\n",
    "\n",
    "# Set (unique values only)\n",
    "unique_nums = {1, 2, 2, 3}\n",
    "print(unique_nums)\n",
    "\n",
    "# Dictionary (key-value)\n",
    "student = {\"name\": \"Alice\", \"age\": 22, \"marks\": 90}\n",
    "print(student[\"name\"])\n"
   ]
  },
  {
   "cell_type": "code",
   "execution_count": 5,
   "id": "e2b608de-9195-4262-ae5f-5c12e247b761",
   "metadata": {},
   "outputs": [
    {
     "name": "stdout",
     "output_type": "stream",
     "text": [
      "Odd\n",
      "Sum of 1-10: 55\n",
      "5\n",
      "4\n",
      "3\n",
      "2\n",
      "1\n"
     ]
    }
   ],
   "source": [
    "# If/else\n",
    "x = 7\n",
    "if x % 2 == 0:\n",
    "    print(\"Even\")\n",
    "else:\n",
    "    print(\"Odd\")\n",
    "\n",
    "# For loop\n",
    "total = 0\n",
    "for i in range(1, 11):\n",
    "    total += i\n",
    "print(\"Sum of 1-10:\", total)\n",
    "\n",
    "# While loop\n",
    "n = 5\n",
    "while n > 0:\n",
    "    print(n)\n",
    "    n -= 1\n"
   ]
  },
  {
   "cell_type": "code",
   "execution_count": 7,
   "id": "8fac1f61-dffb-4871-8f8a-7ac639f4197d",
   "metadata": {},
   "outputs": [
    {
     "name": "stdout",
     "output_type": "stream",
     "text": [
      "120\n"
     ]
    }
   ],
   "source": [
    "def factorial(n):\n",
    "    result = 1\n",
    "    for i in range(1, n+1):\n",
    "        result *= i\n",
    "    return result\n",
    "\n",
    "print(factorial(5))  # should be 120\n"
   ]
  },
  {
   "cell_type": "code",
   "execution_count": 9,
   "id": "9666c723-94f8-4cae-9ebc-84af0f1618fa",
   "metadata": {},
   "outputs": [
    {
     "name": "stdout",
     "output_type": "stream",
     "text": [
      "1\n",
      "2\n",
      "Fizz\n",
      "4\n",
      "Buzz\n",
      "Fizz\n",
      "7\n",
      "8\n",
      "Fizz\n",
      "Buzz\n",
      "11\n",
      "Fizz\n",
      "13\n",
      "14\n",
      "FizzBuzz\n",
      "16\n",
      "17\n",
      "Fizz\n",
      "19\n",
      "Buzz\n",
      "gninraelenihcam\n",
      "Maximum: 89\n"
     ]
    }
   ],
   "source": [
    "# FizzBuzz\n",
    "for i in range(1, 21):\n",
    "    if i % 3 == 0 and i % 5 == 0:\n",
    "        print(\"FizzBuzz\")\n",
    "    elif i % 3 == 0:\n",
    "        print(\"Fizz\")\n",
    "    elif i % 5 == 0:\n",
    "        print(\"Buzz\")\n",
    "    else:\n",
    "        print(i)\n",
    "\n",
    "# Reverse string without slicing\n",
    "s = \"machinelearning\"\n",
    "reversed_s = \"\"\n",
    "for ch in s:\n",
    "    reversed_s = ch + reversed_s\n",
    "print(reversed_s)\n",
    "\n",
    "# Find max number in list (without max())\n",
    "nums = [10, 25, 3, 89, 44]\n",
    "max_num = nums[0]\n",
    "for num in nums:\n",
    "    if num > max_num:\n",
    "        max_num = num\n",
    "print(\"Maximum:\", max_num)\n"
   ]
  },
  {
   "cell_type": "code",
   "execution_count": null,
   "id": "efc8a196-f0d1-44f1-829d-12370b043f5b",
   "metadata": {},
   "outputs": [],
   "source": []
  }
 ],
 "metadata": {
  "kernelspec": {
   "display_name": "ml",
   "language": "python",
   "name": "ml"
  },
  "language_info": {
   "codemirror_mode": {
    "name": "ipython",
    "version": 3
   },
   "file_extension": ".py",
   "mimetype": "text/x-python",
   "name": "python",
   "nbconvert_exporter": "python",
   "pygments_lexer": "ipython3",
   "version": "3.9.20"
  }
 },
 "nbformat": 4,
 "nbformat_minor": 5
}
