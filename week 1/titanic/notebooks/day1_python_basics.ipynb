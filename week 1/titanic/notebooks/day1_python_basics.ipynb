{
 "cells": [
  {
   "cell_type": "code",
   "execution_count": 1,
   "id": "bb152de2-b80b-43bf-9af3-0db1e6ee544d",
   "metadata": {},
   "outputs": [
    {
     "name": "stdout",
     "output_type": "stream",
     "text": [
      "<class 'int'> <class 'float'> <class 'str'> <class 'bool'>\n"
     ]
    }
   ],
   "source": [
    "# Integers, floats, strings, booleans\n",
    "a = 10\n",
    "b = 3.14\n",
    "c = \"Hello\"\n",
    "d = True\n",
    "\n",
    "print(type(a), type(b), type(c), type(d))\n"
   ]
  },
  {
   "cell_type": "code",
   "execution_count": 3,
   "id": "f883d3bf-4420-46ca-a57b-ffb1a7a88548",
   "metadata": {},
   "outputs": [
    {
     "name": "stdout",
     "output_type": "stream",
     "text": [
      "[1, 2, 3, 4, 5]\n",
      "(10, 20)\n",
      "{1, 2, 3}\n",
      "Alice\n"
     ]
    }
   ],
   "source": [
    "# List\n",
    "numbers = [1, 2, 3, 4, 5]\n",
    "print(numbers)\n",
    "\n",
    "# Tuple (immutable list)\n",
    "coords = (10, 20)\n",
    "print(coords)\n",
    "\n",
    "# Set (unique values only)\n",
    "unique_nums = {1, 2, 2, 3}\n",
    "print(unique_nums)\n",
    "\n",
    "# Dictionary (key-value)\n",
    "student = {\"name\": \"Alice\", \"age\": 22, \"marks\": 90}\n",
    "print(student[\"name\"])\n"
   ]
  },
  {
   "cell_type": "code",
   "execution_count": null,
   "id": "e2b608de-9195-4262-ae5f-5c12e247b761",
   "metadata": {},
   "outputs": [],
   "source": []
  }
 ],
 "metadata": {
  "kernelspec": {
   "display_name": "ml",
   "language": "python",
   "name": "ml"
  },
  "language_info": {
   "codemirror_mode": {
    "name": "ipython",
    "version": 3
   },
   "file_extension": ".py",
   "mimetype": "text/x-python",
   "name": "python",
   "nbconvert_exporter": "python",
   "pygments_lexer": "ipython3",
   "version": "3.9.20"
  }
 },
 "nbformat": 4,
 "nbformat_minor": 5
}
